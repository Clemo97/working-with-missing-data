{
 "cells": [
  {
   "cell_type": "markdown",
   "metadata": {},
   "source": [
    "I'll learn how to handle missing data without having to drop rows and columns using data on motor vehicle collisions released by New York City and published on the <b>NYC OpenData website</b>.\n",
    "There is data on over 1.5 million collisions dating back to 2012, with additional data continuously added."
   ]
  },
  {
   "cell_type": "markdown",
   "metadata": {},
   "source": [
    "I'll work with an extract of the full data: Crashes from the year 2018."
   ]
  },
  {
   "cell_type": "markdown",
   "metadata": {},
   "source": [
    "The data has been modified form the original to fit this scenario."
   ]
  },
  {
   "cell_type": "code",
   "execution_count": 82,
   "metadata": {},
   "outputs": [
    {
     "data": {
      "text/html": [
       "<div>\n",
       "<style scoped>\n",
       "    .dataframe tbody tr th:only-of-type {\n",
       "        vertical-align: middle;\n",
       "    }\n",
       "\n",
       "    .dataframe tbody tr th {\n",
       "        vertical-align: top;\n",
       "    }\n",
       "\n",
       "    .dataframe thead th {\n",
       "        text-align: right;\n",
       "    }\n",
       "</style>\n",
       "<table border=\"1\" class=\"dataframe\">\n",
       "  <thead>\n",
       "    <tr style=\"text-align: right;\">\n",
       "      <th></th>\n",
       "      <th>unique_key</th>\n",
       "      <th>date</th>\n",
       "      <th>time</th>\n",
       "      <th>borough</th>\n",
       "      <th>location</th>\n",
       "      <th>on_street</th>\n",
       "      <th>cross_street</th>\n",
       "      <th>off_street</th>\n",
       "      <th>pedestrians_injured</th>\n",
       "      <th>cyclist_injured</th>\n",
       "      <th>motorist_injured</th>\n",
       "      <th>total_injured</th>\n",
       "      <th>pedestrians_killed</th>\n",
       "      <th>cyclist_killed</th>\n",
       "      <th>motorist_killed</th>\n",
       "      <th>total_killed</th>\n",
       "      <th>vehicle_1</th>\n",
       "      <th>vehicle_2</th>\n",
       "      <th>vehicle_3</th>\n",
       "      <th>vehicle_4</th>\n",
       "      <th>vehicle_5</th>\n",
       "      <th>cause_vehicle_1</th>\n",
       "      <th>cause_vehicle_2</th>\n",
       "      <th>cause_vehicle_3</th>\n",
       "      <th>cause_vehicle_4</th>\n",
       "      <th>cause_vehicle_5</th>\n",
       "    </tr>\n",
       "  </thead>\n",
       "  <tbody>\n",
       "    <tr>\n",
       "      <td>0</td>\n",
       "      <td>3869058</td>\n",
       "      <td>2018-03-23</td>\n",
       "      <td>21:40</td>\n",
       "      <td>MANHATTAN</td>\n",
       "      <td>(40.742832, -74.00771)</td>\n",
       "      <td>WEST 15 STREET</td>\n",
       "      <td>10 AVENUE</td>\n",
       "      <td>NaN</td>\n",
       "      <td>0</td>\n",
       "      <td>0</td>\n",
       "      <td>0</td>\n",
       "      <td>0.0</td>\n",
       "      <td>0</td>\n",
       "      <td>0</td>\n",
       "      <td>0</td>\n",
       "      <td>0.0</td>\n",
       "      <td>PASSENGER VEHICLE</td>\n",
       "      <td>NaN</td>\n",
       "      <td>NaN</td>\n",
       "      <td>NaN</td>\n",
       "      <td>NaN</td>\n",
       "      <td>Following Too Closely</td>\n",
       "      <td>Unspecified</td>\n",
       "      <td>NaN</td>\n",
       "      <td>NaN</td>\n",
       "      <td>NaN</td>\n",
       "    </tr>\n",
       "    <tr>\n",
       "      <td>1</td>\n",
       "      <td>3847947</td>\n",
       "      <td>2018-02-13</td>\n",
       "      <td>14:45</td>\n",
       "      <td>BROOKLYN</td>\n",
       "      <td>(40.623714, -73.99314)</td>\n",
       "      <td>16 AVENUE</td>\n",
       "      <td>62 STREET</td>\n",
       "      <td>NaN</td>\n",
       "      <td>0</td>\n",
       "      <td>0</td>\n",
       "      <td>0</td>\n",
       "      <td>0.0</td>\n",
       "      <td>0</td>\n",
       "      <td>0</td>\n",
       "      <td>0</td>\n",
       "      <td>0.0</td>\n",
       "      <td>SPORT UTILITY / STATION WAGON</td>\n",
       "      <td>DS</td>\n",
       "      <td>NaN</td>\n",
       "      <td>NaN</td>\n",
       "      <td>NaN</td>\n",
       "      <td>Backing Unsafely</td>\n",
       "      <td>Unspecified</td>\n",
       "      <td>NaN</td>\n",
       "      <td>NaN</td>\n",
       "      <td>NaN</td>\n",
       "    </tr>\n",
       "    <tr>\n",
       "      <td>2</td>\n",
       "      <td>3914294</td>\n",
       "      <td>2018-06-04</td>\n",
       "      <td>0:00</td>\n",
       "      <td>NaN</td>\n",
       "      <td>(40.591755, -73.9083)</td>\n",
       "      <td>BELT PARKWAY</td>\n",
       "      <td>NaN</td>\n",
       "      <td>NaN</td>\n",
       "      <td>0</td>\n",
       "      <td>0</td>\n",
       "      <td>1</td>\n",
       "      <td>1.0</td>\n",
       "      <td>0</td>\n",
       "      <td>0</td>\n",
       "      <td>0</td>\n",
       "      <td>0.0</td>\n",
       "      <td>Station Wagon/Sport Utility Vehicle</td>\n",
       "      <td>Sedan</td>\n",
       "      <td>NaN</td>\n",
       "      <td>NaN</td>\n",
       "      <td>NaN</td>\n",
       "      <td>Following Too Closely</td>\n",
       "      <td>Unspecified</td>\n",
       "      <td>NaN</td>\n",
       "      <td>NaN</td>\n",
       "      <td>NaN</td>\n",
       "    </tr>\n",
       "    <tr>\n",
       "      <td>3</td>\n",
       "      <td>3915069</td>\n",
       "      <td>2018-06-05</td>\n",
       "      <td>6:36</td>\n",
       "      <td>QUEENS</td>\n",
       "      <td>(40.73602, -73.87954)</td>\n",
       "      <td>GRAND AVENUE</td>\n",
       "      <td>VANLOON STREET</td>\n",
       "      <td>NaN</td>\n",
       "      <td>0</td>\n",
       "      <td>0</td>\n",
       "      <td>0</td>\n",
       "      <td>0.0</td>\n",
       "      <td>0</td>\n",
       "      <td>0</td>\n",
       "      <td>0</td>\n",
       "      <td>0.0</td>\n",
       "      <td>Sedan</td>\n",
       "      <td>Sedan</td>\n",
       "      <td>NaN</td>\n",
       "      <td>NaN</td>\n",
       "      <td>NaN</td>\n",
       "      <td>Glare</td>\n",
       "      <td>Passing Too Closely</td>\n",
       "      <td>NaN</td>\n",
       "      <td>NaN</td>\n",
       "      <td>NaN</td>\n",
       "    </tr>\n",
       "    <tr>\n",
       "      <td>4</td>\n",
       "      <td>3923123</td>\n",
       "      <td>2018-06-16</td>\n",
       "      <td>15:45</td>\n",
       "      <td>BRONX</td>\n",
       "      <td>(40.884727, -73.89945)</td>\n",
       "      <td>NaN</td>\n",
       "      <td>NaN</td>\n",
       "      <td>208       WEST 238 STREET</td>\n",
       "      <td>0</td>\n",
       "      <td>0</td>\n",
       "      <td>0</td>\n",
       "      <td>0.0</td>\n",
       "      <td>0</td>\n",
       "      <td>0</td>\n",
       "      <td>0</td>\n",
       "      <td>0.0</td>\n",
       "      <td>Station Wagon/Sport Utility Vehicle</td>\n",
       "      <td>Sedan</td>\n",
       "      <td>NaN</td>\n",
       "      <td>NaN</td>\n",
       "      <td>NaN</td>\n",
       "      <td>Turning Improperly</td>\n",
       "      <td>Unspecified</td>\n",
       "      <td>NaN</td>\n",
       "      <td>NaN</td>\n",
       "      <td>NaN</td>\n",
       "    </tr>\n",
       "  </tbody>\n",
       "</table>\n",
       "</div>"
      ],
      "text/plain": [
       "   unique_key        date   time    borough                location  \\\n",
       "0  3869058     2018-03-23  21:40  MANHATTAN  (40.742832, -74.00771)   \n",
       "1  3847947     2018-02-13  14:45  BROOKLYN   (40.623714, -73.99314)   \n",
       "2  3914294     2018-06-04  0:00   NaN        (40.591755, -73.9083)    \n",
       "3  3915069     2018-06-05  6:36   QUEENS     (40.73602, -73.87954)    \n",
       "4  3923123     2018-06-16  15:45  BRONX      (40.884727, -73.89945)   \n",
       "\n",
       "                          on_street    cross_street  \\\n",
       "0  WEST 15 STREET                    10 AVENUE        \n",
       "1  16 AVENUE                         62 STREET        \n",
       "2  BELT PARKWAY                      NaN              \n",
       "3  GRAND AVENUE                      VANLOON STREET   \n",
       "4  NaN                               NaN              \n",
       "\n",
       "                                 off_street  pedestrians_injured  \\\n",
       "0  NaN                                       0                     \n",
       "1  NaN                                       0                     \n",
       "2  NaN                                       0                     \n",
       "3  NaN                                       0                     \n",
       "4  208       WEST 238 STREET                 0                     \n",
       "\n",
       "   cyclist_injured  motorist_injured  total_injured  pedestrians_killed  \\\n",
       "0  0                0                 0.0            0                    \n",
       "1  0                0                 0.0            0                    \n",
       "2  0                1                 1.0            0                    \n",
       "3  0                0                 0.0            0                    \n",
       "4  0                0                 0.0            0                    \n",
       "\n",
       "   cyclist_killed  motorist_killed  total_killed  \\\n",
       "0  0               0                0.0            \n",
       "1  0               0                0.0            \n",
       "2  0               0                0.0            \n",
       "3  0               0                0.0            \n",
       "4  0               0                0.0            \n",
       "\n",
       "                             vehicle_1 vehicle_2 vehicle_3 vehicle_4  \\\n",
       "0  PASSENGER VEHICLE                    NaN       NaN       NaN        \n",
       "1  SPORT UTILITY / STATION WAGON        DS        NaN       NaN        \n",
       "2  Station Wagon/Sport Utility Vehicle  Sedan     NaN       NaN        \n",
       "3  Sedan                                Sedan     NaN       NaN        \n",
       "4  Station Wagon/Sport Utility Vehicle  Sedan     NaN       NaN        \n",
       "\n",
       "  vehicle_5        cause_vehicle_1      cause_vehicle_2 cause_vehicle_3  \\\n",
       "0  NaN       Following Too Closely  Unspecified          NaN              \n",
       "1  NaN       Backing Unsafely       Unspecified          NaN              \n",
       "2  NaN       Following Too Closely  Unspecified          NaN              \n",
       "3  NaN       Glare                  Passing Too Closely  NaN              \n",
       "4  NaN       Turning Improperly     Unspecified          NaN              \n",
       "\n",
       "  cause_vehicle_4 cause_vehicle_5  \n",
       "0  NaN             NaN             \n",
       "1  NaN             NaN             \n",
       "2  NaN             NaN             \n",
       "3  NaN             NaN             \n",
       "4  NaN             NaN             "
      ]
     },
     "execution_count": 82,
     "metadata": {},
     "output_type": "execute_result"
    }
   ],
   "source": [
    "import pandas as pd\n",
    "import numpy as np\n",
    "pd.set_option('display.max_columns', 999)\n",
    "pd.set_option('display.max_rows', 900)\n",
    "pd.set_option('display.max_colwidth', -1)\n",
    "\n",
    "mvc = pd.read_csv(r\"C:\\Users\\lumum\\Documents\\Data Projects\\working-with-missing-data\\nypd_mvc_2018.csv\")\n",
    "\n",
    "mvc.head()"
   ]
  },
  {
   "cell_type": "code",
   "execution_count": 83,
   "metadata": {},
   "outputs": [
    {
     "name": "stdout",
     "output_type": "stream",
     "text": [
      "<class 'pandas.core.frame.DataFrame'>\n",
      "RangeIndex: 57864 entries, 0 to 57863\n",
      "Data columns (total 26 columns):\n",
      "unique_key             57864 non-null int64\n",
      "date                   57864 non-null object\n",
      "time                   57864 non-null object\n",
      "borough                37218 non-null object\n",
      "location               53979 non-null object\n",
      "on_street              43903 non-null object\n",
      "cross_street           28615 non-null object\n",
      "off_street             13771 non-null object\n",
      "pedestrians_injured    57864 non-null int64\n",
      "cyclist_injured        57864 non-null int64\n",
      "motorist_injured       57864 non-null int64\n",
      "total_injured          57863 non-null float64\n",
      "pedestrians_killed     57864 non-null int64\n",
      "cyclist_killed         57864 non-null int64\n",
      "motorist_killed        57864 non-null int64\n",
      "total_killed           57859 non-null float64\n",
      "vehicle_1              57509 non-null object\n",
      "vehicle_2              45602 non-null object\n",
      "vehicle_3              3512 non-null object\n",
      "vehicle_4              706 non-null object\n",
      "vehicle_5              183 non-null object\n",
      "cause_vehicle_1        57689 non-null object\n",
      "cause_vehicle_2        49172 non-null object\n",
      "cause_vehicle_3        3730 non-null object\n",
      "cause_vehicle_4        753 non-null object\n",
      "cause_vehicle_5        193 non-null object\n",
      "dtypes: float64(2), int64(7), object(17)\n",
      "memory usage: 11.5+ MB\n"
     ]
    }
   ],
   "source": [
    "mvc.info()"
   ]
  },
  {
   "cell_type": "markdown",
   "metadata": {},
   "source": [
    "A summary of the columns and their data is below:\n",
    "<ul>\n",
    "    <li><b>unique_key</b>: A unique identifier for each collision.</li>\n",
    "    <li><b>date, time</b>: Date and time of the collision.</li>\n",
    "    <li><b>borough</b>: The borough, or area of New York City, where the collision occurred.</li>\n",
    "    <li><b>location</b>: Latitude and longitude coordinates for the collision.</li>\n",
    "    <li><b>on_street, cross_street, off_street</b>: Details of the street or intersection where the collision occurred.</li>\n",
    "    <li><b>pedestrians_injured</b>: Number of pedestrians who were injured.</li>\n",
    "    <li><b>cyclist_injured</b>: Number of people traveling on a bicycle who were injured.</li>\n",
    "    <li><b>motorist_injured</b>: Number of people traveling in a vehicle who were injured.</li>\n",
    "    <li><b>total_injured</b>: Total number of people injured.</li>\n",
    "    <li><b>pedestrians_killed</b>: Number of pedestrians who were killed.</li>\n",
    "    <li><b>cyclist_killed</b>: Number of people traveling on a bicycle who were killed.</li>\n",
    "    <li><b>motorist_killed</b>: Number of people traveling in a vehicle who were killed.</li>\n",
    "    <li><b>total_killed</b>: Total number of people killed.</li>\n",
    "    <li><b>vehicle_1 through vehicle_5</b>: Type of each vehicle involved in the accident.</li>\n",
    "    <li><b>cause_vehicle_1 through cause_vehicle_5</b>: Contributing factor for each vehicle in the accident.</li>\n",
    "    </ul>"
   ]
  },
  {
   "cell_type": "markdown",
   "metadata": {},
   "source": [
    "Counting missing values:"
   ]
  },
  {
   "cell_type": "code",
   "execution_count": 84,
   "metadata": {},
   "outputs": [
    {
     "name": "stdout",
     "output_type": "stream",
     "text": [
      "    A   B    C\n",
      "0 NaN NaN  1.0\n",
      "1 NaN NaN  1.0\n",
      "2 NaN NaN NaN \n"
     ]
    }
   ],
   "source": [
    "data = np.random.choice([1.0, np.nan], size=(3, 3), p=[.3, .7])\n",
    "df = pd.DataFrame(data, columns=['A','B','C'])\n",
    "print(df)\n"
   ]
  },
  {
   "cell_type": "markdown",
   "metadata": {},
   "source": [
    "Next, we can use the <b>DataFrame.isnull()</b> method to identify which values are null:"
   ]
  },
  {
   "cell_type": "code",
   "execution_count": 85,
   "metadata": {},
   "outputs": [
    {
     "data": {
      "text/html": [
       "<div>\n",
       "<style scoped>\n",
       "    .dataframe tbody tr th:only-of-type {\n",
       "        vertical-align: middle;\n",
       "    }\n",
       "\n",
       "    .dataframe tbody tr th {\n",
       "        vertical-align: top;\n",
       "    }\n",
       "\n",
       "    .dataframe thead th {\n",
       "        text-align: right;\n",
       "    }\n",
       "</style>\n",
       "<table border=\"1\" class=\"dataframe\">\n",
       "  <thead>\n",
       "    <tr style=\"text-align: right;\">\n",
       "      <th></th>\n",
       "      <th>A</th>\n",
       "      <th>B</th>\n",
       "      <th>C</th>\n",
       "    </tr>\n",
       "  </thead>\n",
       "  <tbody>\n",
       "    <tr>\n",
       "      <td>0</td>\n",
       "      <td>True</td>\n",
       "      <td>True</td>\n",
       "      <td>False</td>\n",
       "    </tr>\n",
       "    <tr>\n",
       "      <td>1</td>\n",
       "      <td>True</td>\n",
       "      <td>True</td>\n",
       "      <td>False</td>\n",
       "    </tr>\n",
       "    <tr>\n",
       "      <td>2</td>\n",
       "      <td>True</td>\n",
       "      <td>True</td>\n",
       "      <td>True</td>\n",
       "    </tr>\n",
       "  </tbody>\n",
       "</table>\n",
       "</div>"
      ],
      "text/plain": [
       "      A     B      C\n",
       "0  True  True  False\n",
       "1  True  True  False\n",
       "2  True  True  True "
      ]
     },
     "execution_count": 85,
     "metadata": {},
     "output_type": "execute_result"
    }
   ],
   "source": [
    "df.isnull()"
   ]
  },
  {
   "cell_type": "markdown",
   "metadata": {},
   "source": [
    "Then we can chain the result to <b>DataFrame.sum()</b> method to count the number of null values in each column:"
   ]
  },
  {
   "cell_type": "code",
   "execution_count": 86,
   "metadata": {},
   "outputs": [
    {
     "data": {
      "text/plain": [
       "A    3\n",
       "B    3\n",
       "C    1\n",
       "dtype: int64"
      ]
     },
     "execution_count": 86,
     "metadata": {},
     "output_type": "execute_result"
    }
   ],
   "source": [
    "df.isnull().sum()\n",
    "#total null values in the dataframe"
   ]
  },
  {
   "cell_type": "markdown",
   "metadata": {},
   "source": [
    "Let's use this technique to count the null values in our data set."
   ]
  },
  {
   "cell_type": "code",
   "execution_count": 87,
   "metadata": {},
   "outputs": [
    {
     "name": "stdout",
     "output_type": "stream",
     "text": [
      "unique_key             0    \n",
      "date                   0    \n",
      "time                   0    \n",
      "borough                20646\n",
      "location               3885 \n",
      "on_street              13961\n",
      "cross_street           29249\n",
      "off_street             44093\n",
      "pedestrians_injured    0    \n",
      "cyclist_injured        0    \n",
      "motorist_injured       0    \n",
      "total_injured          1    \n",
      "pedestrians_killed     0    \n",
      "cyclist_killed         0    \n",
      "motorist_killed        0    \n",
      "total_killed           5    \n",
      "vehicle_1              355  \n",
      "vehicle_2              12262\n",
      "vehicle_3              54352\n",
      "vehicle_4              57158\n",
      "vehicle_5              57681\n",
      "cause_vehicle_1        175  \n",
      "cause_vehicle_2        8692 \n",
      "cause_vehicle_3        54134\n",
      "cause_vehicle_4        57111\n",
      "cause_vehicle_5        57671\n",
      "dtype: int64\n"
     ]
    }
   ],
   "source": [
    "import pandas as pd\n",
    "mvc = pd.read_csv(\"nypd_mvc_2018.csv\")\n",
    "\n",
    "null_counts = mvc.isnull().sum()\n",
    "print(null_counts)"
   ]
  },
  {
   "cell_type": "markdown",
   "metadata": {},
   "source": [
    "### percentage of null values per column\n",
    "In order to get a better picture of the null values, I calculate the percentage of null values in each column."
   ]
  },
  {
   "cell_type": "code",
   "execution_count": 88,
   "metadata": {},
   "outputs": [
    {
     "name": "stdout",
     "output_type": "stream",
     "text": [
      "unique_key             0.000000 \n",
      "date                   0.000000 \n",
      "time                   0.000000 \n",
      "borough                35.680216\n",
      "location               6.714019 \n",
      "on_street              24.127264\n",
      "cross_street           50.547836\n",
      "off_street             76.201092\n",
      "pedestrians_injured    0.000000 \n",
      "cyclist_injured        0.000000 \n",
      "motorist_injured       0.000000 \n",
      "total_injured          0.001728 \n",
      "pedestrians_killed     0.000000 \n",
      "cyclist_killed         0.000000 \n",
      "motorist_killed        0.000000 \n",
      "total_killed           0.008641 \n",
      "vehicle_1              0.613508 \n",
      "vehicle_2              21.191069\n",
      "vehicle_3              93.930596\n",
      "vehicle_4              98.779898\n",
      "vehicle_5              99.683741\n",
      "cause_vehicle_1        0.302433 \n",
      "cause_vehicle_2        15.021430\n",
      "cause_vehicle_3        93.553850\n",
      "cause_vehicle_4        98.698673\n",
      "cause_vehicle_5        99.666459\n",
      "dtype: float64\n"
     ]
    }
   ],
   "source": [
    "#shape method gets the total number of rows\n",
    "null_counts_pct = null_counts / mvc.shape[0] * 100\n",
    "print(null_counts_pct)"
   ]
  },
  {
   "cell_type": "code",
   "execution_count": 89,
   "metadata": {},
   "outputs": [
    {
     "data": {
      "text/plain": [
       "57864"
      ]
     },
     "execution_count": 89,
     "metadata": {},
     "output_type": "execute_result"
    }
   ],
   "source": [
    "mvc.shape[0]"
   ]
  },
  {
   "cell_type": "markdown",
   "metadata": {},
   "source": [
    "### Add both the counts and percentages to a dataframe to make them easier to compare"
   ]
  },
  {
   "cell_type": "code",
   "execution_count": 90,
   "metadata": {},
   "outputs": [
    {
     "data": {
      "text/html": [
       "<div>\n",
       "<style scoped>\n",
       "    .dataframe tbody tr th:only-of-type {\n",
       "        vertical-align: middle;\n",
       "    }\n",
       "\n",
       "    .dataframe tbody tr th {\n",
       "        vertical-align: top;\n",
       "    }\n",
       "\n",
       "    .dataframe thead th {\n",
       "        text-align: right;\n",
       "    }\n",
       "</style>\n",
       "<table border=\"1\" class=\"dataframe\">\n",
       "  <thead>\n",
       "    <tr style=\"text-align: right;\">\n",
       "      <th></th>\n",
       "      <th>unique_key</th>\n",
       "      <th>date</th>\n",
       "      <th>time</th>\n",
       "      <th>borough</th>\n",
       "      <th>location</th>\n",
       "      <th>on_street</th>\n",
       "      <th>cross_street</th>\n",
       "      <th>off_street</th>\n",
       "      <th>pedestrians_injured</th>\n",
       "      <th>cyclist_injured</th>\n",
       "      <th>motorist_injured</th>\n",
       "      <th>total_injured</th>\n",
       "      <th>pedestrians_killed</th>\n",
       "      <th>cyclist_killed</th>\n",
       "      <th>motorist_killed</th>\n",
       "      <th>total_killed</th>\n",
       "      <th>vehicle_1</th>\n",
       "      <th>vehicle_2</th>\n",
       "      <th>vehicle_3</th>\n",
       "      <th>vehicle_4</th>\n",
       "      <th>vehicle_5</th>\n",
       "      <th>cause_vehicle_1</th>\n",
       "      <th>cause_vehicle_2</th>\n",
       "      <th>cause_vehicle_3</th>\n",
       "      <th>cause_vehicle_4</th>\n",
       "      <th>cause_vehicle_5</th>\n",
       "    </tr>\n",
       "  </thead>\n",
       "  <tbody>\n",
       "    <tr>\n",
       "      <td>null_counts</td>\n",
       "      <td>0</td>\n",
       "      <td>0</td>\n",
       "      <td>0</td>\n",
       "      <td>20646</td>\n",
       "      <td>3885</td>\n",
       "      <td>13961</td>\n",
       "      <td>29249</td>\n",
       "      <td>44093</td>\n",
       "      <td>0</td>\n",
       "      <td>0</td>\n",
       "      <td>0</td>\n",
       "      <td>1</td>\n",
       "      <td>0</td>\n",
       "      <td>0</td>\n",
       "      <td>0</td>\n",
       "      <td>5</td>\n",
       "      <td>355</td>\n",
       "      <td>12262</td>\n",
       "      <td>54352</td>\n",
       "      <td>57158</td>\n",
       "      <td>57681</td>\n",
       "      <td>175</td>\n",
       "      <td>8692</td>\n",
       "      <td>54134</td>\n",
       "      <td>57111</td>\n",
       "      <td>57671</td>\n",
       "    </tr>\n",
       "    <tr>\n",
       "      <td>null_pct</td>\n",
       "      <td>0</td>\n",
       "      <td>0</td>\n",
       "      <td>0</td>\n",
       "      <td>35</td>\n",
       "      <td>6</td>\n",
       "      <td>24</td>\n",
       "      <td>50</td>\n",
       "      <td>76</td>\n",
       "      <td>0</td>\n",
       "      <td>0</td>\n",
       "      <td>0</td>\n",
       "      <td>0</td>\n",
       "      <td>0</td>\n",
       "      <td>0</td>\n",
       "      <td>0</td>\n",
       "      <td>0</td>\n",
       "      <td>0</td>\n",
       "      <td>21</td>\n",
       "      <td>93</td>\n",
       "      <td>98</td>\n",
       "      <td>99</td>\n",
       "      <td>0</td>\n",
       "      <td>15</td>\n",
       "      <td>93</td>\n",
       "      <td>98</td>\n",
       "      <td>99</td>\n",
       "    </tr>\n",
       "  </tbody>\n",
       "</table>\n",
       "</div>"
      ],
      "text/plain": [
       "             unique_key  date  time  borough  location  on_street  \\\n",
       "null_counts  0           0     0     20646    3885      13961       \n",
       "null_pct     0           0     0     35       6         24          \n",
       "\n",
       "             cross_street  off_street  pedestrians_injured  cyclist_injured  \\\n",
       "null_counts  29249         44093       0                    0                 \n",
       "null_pct     50            76          0                    0                 \n",
       "\n",
       "             motorist_injured  total_injured  pedestrians_killed  \\\n",
       "null_counts  0                 1              0                    \n",
       "null_pct     0                 0              0                    \n",
       "\n",
       "             cyclist_killed  motorist_killed  total_killed  vehicle_1  \\\n",
       "null_counts  0               0                5             355         \n",
       "null_pct     0               0                0             0           \n",
       "\n",
       "             vehicle_2  vehicle_3  vehicle_4  vehicle_5  cause_vehicle_1  \\\n",
       "null_counts  12262      54352      57158      57681      175               \n",
       "null_pct     21         93         98         99         0                 \n",
       "\n",
       "             cause_vehicle_2  cause_vehicle_3  cause_vehicle_4  \\\n",
       "null_counts  8692             54134            57111             \n",
       "null_pct     15               93               98                \n",
       "\n",
       "             cause_vehicle_5  \n",
       "null_counts  57671            \n",
       "null_pct     99               "
      ]
     },
     "execution_count": 90,
     "metadata": {},
     "output_type": "execute_result"
    }
   ],
   "source": [
    "#Constructing a DataFrame from a dictionary.\n",
    "#df1.transpose()\n",
    "#Transposing a DataFrame with mixed dtypes will result in a homogeneous DataFrame with the object dtype hence we use astype(int)\n",
    "null_df = pd.DataFrame({'null_counts': null_counts, 'null_pct': null_counts_pct})\n",
    "# Rotate the dataframe so that rows become columns and vice-versa\n",
    "null_df = null_df.T.astype(int)\n",
    "\n",
    "null_df"
   ]
  },
  {
   "cell_type": "markdown",
   "metadata": {},
   "source": [
    "About a third of the columns have no null values, with the rest ranging from less than 1% to 99%!"
   ]
  },
  {
   "cell_type": "markdown",
   "metadata": {},
   "source": [
    "To make things easier, let's start by looking at the group of columns that relate to people killed in collisions."
   ]
  },
  {
   "cell_type": "markdown",
   "metadata": {},
   "source": [
    "We'll use list comprehension to reduce our summary dataframe to just those columns:"
   ]
  },
  {
   "cell_type": "code",
   "execution_count": 91,
   "metadata": {},
   "outputs": [
    {
     "name": "stdout",
     "output_type": "stream",
     "text": [
      "             pedestrians_killed  cyclist_killed  motorist_killed  total_killed\n",
      "null_counts  0                   0               0                5           \n",
      "null_pct     0                   0               0                0           \n"
     ]
    }
   ],
   "source": [
    "killed_cols = [col for col in mvc.columns if 'killed' in col]\n",
    "print(null_df[killed_cols])"
   ]
  },
  {
   "cell_type": "code",
   "execution_count": 92,
   "metadata": {},
   "outputs": [
    {
     "data": {
      "text/plain": [
       "['pedestrians_killed', 'cyclist_killed', 'motorist_killed', 'total_killed']"
      ]
     },
     "execution_count": 92,
     "metadata": {},
     "output_type": "execute_result"
    }
   ],
   "source": [
    "killed_cols = []\n",
    "for col in mvc.columns:\n",
    "    if 'killed' in col:\n",
    "        killed_cols.append(col)\n",
    "        \n",
    "#print(null_df[killed_cols])\n",
    "killed_cols"
   ]
  },
  {
   "cell_type": "markdown",
   "metadata": {},
   "source": [
    "We can see that each of the individual categories have no missing values, but the <b>total_killed</b> column has five missing values."
   ]
  },
  {
   "cell_type": "markdown",
   "metadata": {},
   "source": [
    "One option for handling this would be to remove – or drop – those five rows. This would be a reasonably valid choice since it's a tiny portion of the data, but let's think about what other options we have first."
   ]
  },
  {
   "cell_type": "markdown",
   "metadata": {},
   "source": [
    "If you think about it, the total number of people killed should be the sum of each of the individual categories. We might be able to \"fill in\" the missing values with the sums of the individual columns for that row. The technical name for filling in a missing value with a replacement value is called <b>imputation</b>."
   ]
  },
  {
   "cell_type": "markdown",
   "metadata": {},
   "source": [
    "Let's look at how we could explore the values where the <b>total_killed</b> isn't equal to the sum of the other three columns. We'll illustrate this process using a series of diagrams. The diagrams won't contain values, they'll just show a grid to represent the values."
   ]
  },
  {
   "cell_type": "markdown",
   "metadata": {},
   "source": [
    "Let's start with a dataframe of just the four columns relating to people killed:\n",
    "![ ](images\\wmv1.png)"
   ]
  },
  {
   "cell_type": "markdown",
   "metadata": {},
   "source": [
    "We then select just the first three columns, and manually sum each row:\n",
    "![ ](images\\wmv2.png)"
   ]
  },
  {
   "cell_type": "markdown",
   "metadata": {},
   "source": [
    "We then compare the manual sum to the original total column to create a boolean mask where equivalent values are not equal:\n",
    "![ ](images\\wmv3.png)"
   ]
  },
  {
   "cell_type": "markdown",
   "metadata": {},
   "source": [
    "Lastly, we use the boolean mask to filter the original dataframe to include only rows where the manual sum and original aren't equal:\n",
    "![ ](images\\wmv4.png)"
   ]
  },
  {
   "cell_type": "markdown",
   "metadata": {},
   "source": [
    "Let's use this strategy to look at the rows that don't match up!"
   ]
  },
  {
   "cell_type": "code",
   "execution_count": 93,
   "metadata": {},
   "outputs": [],
   "source": [
    "# killed_cols = [col for col in mvc.columns if 'killed' in col]\n",
    "killed_cols = []\n",
    "for col in mvc.columns:\n",
    "    if 'killed' in col:\n",
    "        killed_cols.append(col)\n",
    "        \n",
    "killed = mvc[killed_cols].copy()\n",
    "\n",
    "killed_manual_sum = killed[['pedestrians_killed','cyclist_killed','motorist_killed']].sum(axis = 1)\n",
    "\n",
    "killed_mask = killed_manual_sum != killed['total_killed']\n",
    "\n",
    "killed_non_eq = killed[killed_mask]"
   ]
  },
  {
   "cell_type": "code",
   "execution_count": 94,
   "metadata": {},
   "outputs": [
    {
     "data": {
      "text/plain": [
       "['pedestrians_killed', 'cyclist_killed', 'motorist_killed', 'total_killed']"
      ]
     },
     "execution_count": 94,
     "metadata": {},
     "output_type": "execute_result"
    }
   ],
   "source": [
    "killed_cols"
   ]
  },
  {
   "cell_type": "code",
   "execution_count": 95,
   "metadata": {},
   "outputs": [
    {
     "data": {
      "text/plain": [
       "0        0\n",
       "1        0\n",
       "2        0\n",
       "3        0\n",
       "4        0\n",
       "        ..\n",
       "57859    0\n",
       "57860    0\n",
       "57861    0\n",
       "57862    0\n",
       "57863    0\n",
       "Length: 57864, dtype: int64"
      ]
     },
     "execution_count": 95,
     "metadata": {},
     "output_type": "execute_result"
    }
   ],
   "source": [
    "killed_manual_sum"
   ]
  },
  {
   "cell_type": "code",
   "execution_count": 96,
   "metadata": {},
   "outputs": [
    {
     "data": {
      "text/plain": [
       "0        0.0\n",
       "1        0.0\n",
       "2        0.0\n",
       "3        0.0\n",
       "4        0.0\n",
       "        ... \n",
       "57859    0.0\n",
       "57860    0.0\n",
       "57861    0.0\n",
       "57862    0.0\n",
       "57863    0.0\n",
       "Name: total_killed, Length: 57864, dtype: float64"
      ]
     },
     "execution_count": 96,
     "metadata": {},
     "output_type": "execute_result"
    }
   ],
   "source": [
    "killed['total_killed']"
   ]
  },
  {
   "cell_type": "code",
   "execution_count": 97,
   "metadata": {},
   "outputs": [
    {
     "data": {
      "text/html": [
       "<div>\n",
       "<style scoped>\n",
       "    .dataframe tbody tr th:only-of-type {\n",
       "        vertical-align: middle;\n",
       "    }\n",
       "\n",
       "    .dataframe tbody tr th {\n",
       "        vertical-align: top;\n",
       "    }\n",
       "\n",
       "    .dataframe thead th {\n",
       "        text-align: right;\n",
       "    }\n",
       "</style>\n",
       "<table border=\"1\" class=\"dataframe\">\n",
       "  <thead>\n",
       "    <tr style=\"text-align: right;\">\n",
       "      <th></th>\n",
       "      <th>pedestrians_killed</th>\n",
       "      <th>cyclist_killed</th>\n",
       "      <th>motorist_killed</th>\n",
       "      <th>total_killed</th>\n",
       "    </tr>\n",
       "  </thead>\n",
       "  <tbody>\n",
       "    <tr>\n",
       "      <td>3508</td>\n",
       "      <td>0</td>\n",
       "      <td>0</td>\n",
       "      <td>0</td>\n",
       "      <td>NaN</td>\n",
       "    </tr>\n",
       "    <tr>\n",
       "      <td>20163</td>\n",
       "      <td>0</td>\n",
       "      <td>0</td>\n",
       "      <td>0</td>\n",
       "      <td>NaN</td>\n",
       "    </tr>\n",
       "    <tr>\n",
       "      <td>22046</td>\n",
       "      <td>0</td>\n",
       "      <td>0</td>\n",
       "      <td>1</td>\n",
       "      <td>0.0</td>\n",
       "    </tr>\n",
       "    <tr>\n",
       "      <td>48719</td>\n",
       "      <td>0</td>\n",
       "      <td>0</td>\n",
       "      <td>0</td>\n",
       "      <td>NaN</td>\n",
       "    </tr>\n",
       "    <tr>\n",
       "      <td>55148</td>\n",
       "      <td>0</td>\n",
       "      <td>0</td>\n",
       "      <td>0</td>\n",
       "      <td>NaN</td>\n",
       "    </tr>\n",
       "    <tr>\n",
       "      <td>55699</td>\n",
       "      <td>0</td>\n",
       "      <td>0</td>\n",
       "      <td>0</td>\n",
       "      <td>NaN</td>\n",
       "    </tr>\n",
       "  </tbody>\n",
       "</table>\n",
       "</div>"
      ],
      "text/plain": [
       "       pedestrians_killed  cyclist_killed  motorist_killed  total_killed\n",
       "3508   0                   0               0               NaN          \n",
       "20163  0                   0               0               NaN          \n",
       "22046  0                   0               1                0.0         \n",
       "48719  0                   0               0               NaN          \n",
       "55148  0                   0               0               NaN          \n",
       "55699  0                   0               0               NaN          "
      ]
     },
     "execution_count": 97,
     "metadata": {},
     "output_type": "execute_result"
    }
   ],
   "source": [
    "killed_non_eq\n",
    "#the killed_non_eq has 6 rows"
   ]
  },
  {
   "cell_type": "markdown",
   "metadata": {},
   "source": [
    "## series.mask()"
   ]
  },
  {
   "cell_type": "markdown",
   "metadata": {},
   "source": [
    "We can categorize these into two categories:\n",
    "<ol type=\"1\">\n",
    "    <li>Five rows where the <b>total_killed</b> is not equal to the sum of the other columns because the total value is missing.</li>\n",
    "    <li>One row where the <b>total_killed</b> is less than the sum of the other columns.</li>\n",
    "    </ol>"
   ]
  },
  {
   "cell_type": "markdown",
   "metadata": {},
   "source": [
    "From this, we can conclude that filling null values with the sum of the columns is a fairly good choice for our imputation, given that only six rows out of around 58,000 don't match this pattern."
   ]
  },
  {
   "cell_type": "markdown",
   "metadata": {},
   "source": [
    "We've also identified a row that has suspicious data - one that doesn't sum correctly. Once we have imputed values for all rows with missing values for <b>total_killed</b>, we'll mark this suspect row by setting its value to <b>NaN</b>."
   ]
  },
  {
   "cell_type": "markdown",
   "metadata": {},
   "source": [
    "In order to execute this, we'll learn to use the <b>Series.mask()</b> method. <b>Series.mask()</b> is useful when you want to replace certain values in a series based off a boolean mask. The syntax for the method is:\n",
    "<code>Series.mask(bool_mask, val_to_replace)</code>"
   ]
  },
  {
   "cell_type": "markdown",
   "metadata": {},
   "source": [
    "Let's look at an example with some simple data. We'll start with a series called <b>fruits</b>:\n",
    "![ ](images\\wmv5.png)"
   ]
  },
  {
   "cell_type": "markdown",
   "metadata": {},
   "source": [
    "Next, we create a boolean series that matches values equal to the string <b>Banana</b>:\n",
    "![ ](images\\wmv6.png)"
   ]
  },
  {
   "cell_type": "markdown",
   "metadata": {},
   "source": [
    "Lastly, we use <b>Series.mask()</b> to replace all the values that match the boolean series with a new value, <b>Pear</b>:\n",
    "![ ](images\\wmv7.png)\n",
    "\n",
    "If we wanted to describe the logic of the code above, we'd say For each value in the \"fruits\" series, if the corresponding value in the \"bool\" series is true, update the value to \"Pear,\" otherwise leave the original value."
   ]
  },
  {
   "cell_type": "markdown",
   "metadata": {},
   "source": [
    "In the first example above, we updated a single value, but we can also update with the matching value from a series that has identical index labels, like this <b>nums</b> series:\n",
    "![ ](images\\wmv8.png)"
   ]
  },
  {
   "cell_type": "markdown",
   "metadata": {},
   "source": [
    "Let's look at how we can update the matching values in <b>fruit</b> with the corresponding values in <b>nums</b>:\n",
    "![ ](images\\wmv9.png)"
   ]
  },
  {
   "cell_type": "markdown",
   "metadata": {},
   "source": [
    "If we wanted to describe the logic of the code above, we'd say For each value in the \"fruits\" series, if the corresponding value in the \"bool\" series is true, update the value to the corresponding value from \"nums,\" otherwise leave the original value."
   ]
  },
  {
   "cell_type": "markdown",
   "metadata": {},
   "source": [
    "In the first example above, we updated a single value, but we can also update with the matching value from a series that has identical index labels, like this <b>nums</b> series:\n",
    "![ ](images\\wmv10.png)"
   ]
  },
  {
   "cell_type": "markdown",
   "metadata": {},
   "source": [
    "Let's look at how we can update the matching values in fruit with the corresponding values in <b>nums</b>:\n",
    "![ ](images\\wmv11.png)\n",
    "\n",
    "If we wanted to describe the logic of the code above, we'd say For each value in the \"fruits\" series, if the corresponding value in the \"bool\" series is true, update the value to the corresponding value from \"nums,\" otherwise leave the original value."
   ]
  },
  {
   "cell_type": "markdown",
   "metadata": {},
   "source": [
    "Let's look at how we'd use this technique to update the values in the <b>total_killed</b> column. First, we'll replace all null values with the equivalent values from our <b>killed_manual_sum</b> series:"
   ]
  },
  {
   "cell_type": "code",
   "execution_count": 98,
   "metadata": {},
   "outputs": [],
   "source": [
    "killed_null = killed['total_killed'].isnull()\n",
    "killed['total_killed'] = killed['total_killed'].mask(killed_null, killed_manual_sum)"
   ]
  },
  {
   "cell_type": "markdown",
   "metadata": {},
   "source": [
    "Next, we'll replace any values where the manual sum and the total column aren't equal with <b>np.nan</b>. This time we'll define the boolean series directly into <b>Series.mask()</b>:"
   ]
  },
  {
   "cell_type": "code",
   "execution_count": 105,
   "metadata": {},
   "outputs": [],
   "source": [
    "killed['total_killed'] = killed['total_killed'].mask(killed['total_killed'] != killed_manual_sum, np.nan)"
   ]
  },
  {
   "cell_type": "code",
   "execution_count": 109,
   "metadata": {},
   "outputs": [
    {
     "name": "stdout",
     "output_type": "stream",
     "text": [
      "       pedestrians_killed  cyclist_killed  motorist_killed  total_killed\n",
      "3508   0                   0               0                0.0         \n",
      "20163  0                   0               0                0.0         \n",
      "22046  0                   0               1                1.0         \n",
      "48719  0                   0               0                0.0         \n",
      "55148  0                   0               0                0.0         \n",
      "55699  0                   0               0                0.0         \n"
     ]
    }
   ],
   "source": [
    "print(killed[killed_mask])"
   ]
  },
  {
   "cell_type": "markdown",
   "metadata": {},
   "source": [
    "We've gone from five null values to one, and flagged some suspicious data. Let's do the same for the injured columns."
   ]
  },
  {
   "cell_type": "code",
   "execution_count": 112,
   "metadata": {},
   "outputs": [],
   "source": [
    "import numpy as np\n",
    "\n",
    "# fix the killed values\n",
    "killed['total_killed'] = killed['total_killed'].mask(killed['total_killed'].isnull(), killed_manual_sum)\n",
    "# replace any values where the manual sum and the total column aren't equal with np.nan for row 22046 which total_killed is mis-calculated\n",
    "killed['total_killed'] = killed['total_killed'].mask(killed['total_killed'] != killed_manual_sum, np.nan)\n",
    "\n",
    "# Create an injured dataframe and manually sum values\n",
    "injured = mvc[[col for col in mvc.columns if 'injured' in col]].copy()\n",
    "injured_manual_sum = injured.iloc[:,:3].sum(axis=1)\n",
    "injured['total_injured'] = injured['total_injured'].mask(injured['total_injured'].isnull(), injured_manual_sum)\n",
    "\n",
    "injured['total_injured'] = injured['total_injured'].mask(injured['total_injured'] != injured_manual_sum, np.nan)\n"
   ]
  },
  {
   "cell_type": "code",
   "execution_count": null,
   "metadata": {},
   "outputs": [],
   "source": []
  }
 ],
 "metadata": {
  "kernelspec": {
   "display_name": "Python 3",
   "language": "python",
   "name": "python3"
  },
  "language_info": {
   "codemirror_mode": {
    "name": "ipython",
    "version": 3
   },
   "file_extension": ".py",
   "mimetype": "text/x-python",
   "name": "python",
   "nbconvert_exporter": "python",
   "pygments_lexer": "ipython3",
   "version": "3.7.4"
  }
 },
 "nbformat": 4,
 "nbformat_minor": 2
}
